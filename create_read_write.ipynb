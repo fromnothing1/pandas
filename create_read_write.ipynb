{
 "cells": [
  {
   "cell_type": "markdown",
   "metadata": {},
   "source": [
    "# test"
   ]
  },
  {
   "cell_type": "code",
   "execution_count": 2,
   "metadata": {},
   "outputs": [],
   "source": [
    "import pandas as pd\n",
    "import numpy as np\n",
    "pd.set_option('max_rows', 5)"
   ]
  },
  {
   "cell_type": "code",
   "execution_count": 109,
   "metadata": {},
   "outputs": [
    {
     "data": {
      "text/html": [
       "<div>\n",
       "<style scoped>\n",
       "    .dataframe tbody tr th:only-of-type {\n",
       "        vertical-align: middle;\n",
       "    }\n",
       "\n",
       "    .dataframe tbody tr th {\n",
       "        vertical-align: top;\n",
       "    }\n",
       "\n",
       "    .dataframe thead th {\n",
       "        text-align: right;\n",
       "    }\n",
       "</style>\n",
       "<table border=\"1\" class=\"dataframe\">\n",
       "  <thead>\n",
       "    <tr style=\"text-align: right;\">\n",
       "      <th></th>\n",
       "      <th>Yes</th>\n",
       "      <th>No</th>\n",
       "    </tr>\n",
       "  </thead>\n",
       "  <tbody>\n",
       "    <tr>\n",
       "      <th>0</th>\n",
       "      <td>50</td>\n",
       "      <td>131</td>\n",
       "    </tr>\n",
       "    <tr>\n",
       "      <th>1</th>\n",
       "      <td>21</td>\n",
       "      <td>2</td>\n",
       "    </tr>\n",
       "  </tbody>\n",
       "</table>\n",
       "</div>"
      ],
      "text/plain": [
       "   Yes   No\n",
       "0   50  131\n",
       "1   21    2"
      ]
     },
     "execution_count": 109,
     "metadata": {},
     "output_type": "execute_result"
    }
   ],
   "source": [
    "#basic\n",
    "\n",
    "pd.DataFrame({'Yes': [50, 21], 'No': [131, 2]})"
   ]
  },
  {
   "cell_type": "code",
   "execution_count": 110,
   "metadata": {},
   "outputs": [
    {
     "data": {
      "text/html": [
       "<div>\n",
       "<style scoped>\n",
       "    .dataframe tbody tr th:only-of-type {\n",
       "        vertical-align: middle;\n",
       "    }\n",
       "\n",
       "    .dataframe tbody tr th {\n",
       "        vertical-align: top;\n",
       "    }\n",
       "\n",
       "    .dataframe thead th {\n",
       "        text-align: right;\n",
       "    }\n",
       "</style>\n",
       "<table border=\"1\" class=\"dataframe\">\n",
       "  <thead>\n",
       "    <tr style=\"text-align: right;\">\n",
       "      <th></th>\n",
       "      <th>Bob</th>\n",
       "      <th>Sue</th>\n",
       "    </tr>\n",
       "  </thead>\n",
       "  <tbody>\n",
       "    <tr>\n",
       "      <th>Product A</th>\n",
       "      <td>I liked it.</td>\n",
       "      <td>Pretty good.</td>\n",
       "    </tr>\n",
       "    <tr>\n",
       "      <th>Product B</th>\n",
       "      <td>It was awful.</td>\n",
       "      <td>Bland.</td>\n",
       "    </tr>\n",
       "  </tbody>\n",
       "</table>\n",
       "</div>"
      ],
      "text/plain": [
       "                     Bob           Sue\n",
       "Product A    I liked it.  Pretty good.\n",
       "Product B  It was awful.        Bland."
      ]
     },
     "execution_count": 110,
     "metadata": {},
     "output_type": "execute_result"
    }
   ],
   "source": [
    "#index\n",
    "pd.DataFrame({'Bob': ['I liked it.', 'It was awful.'], \n",
    "              'Sue': ['Pretty good.', 'Bland.']},\n",
    "             index=['Product A', 'Product B'])"
   ]
  },
  {
   "cell_type": "code",
   "execution_count": 111,
   "metadata": {},
   "outputs": [
    {
     "data": {
      "text/plain": [
       "2015 Sales    30\n",
       "2016 Sales    35\n",
       "2017 Sales    40\n",
       "Name: Product A, dtype: int64"
      ]
     },
     "execution_count": 111,
     "metadata": {},
     "output_type": "execute_result"
    }
   ],
   "source": [
    "#series\n",
    "pd.Series([1, 2, 3, 4, 5])\n",
    "pd.Series([30, 35, 40], index=['2015 Sales', '2016 Sales', '2017 Sales'], name='Product A')"
   ]
  },
  {
   "cell_type": "markdown",
   "metadata": {},
   "source": [
    "<!-- Reading data files -->"
   ]
  },
  {
   "cell_type": "code",
   "execution_count": 112,
   "metadata": {},
   "outputs": [
    {
     "data": {
      "text/html": [
       "<div>\n",
       "<style scoped>\n",
       "    .dataframe tbody tr th:only-of-type {\n",
       "        vertical-align: middle;\n",
       "    }\n",
       "\n",
       "    .dataframe tbody tr th {\n",
       "        vertical-align: top;\n",
       "    }\n",
       "\n",
       "    .dataframe thead th {\n",
       "        text-align: right;\n",
       "    }\n",
       "</style>\n",
       "<table border=\"1\" class=\"dataframe\">\n",
       "  <thead>\n",
       "    <tr style=\"text-align: right;\">\n",
       "      <th></th>\n",
       "      <th>Index</th>\n",
       "      <th>Year</th>\n",
       "      <th>Age</th>\n",
       "      <th>Name</th>\n",
       "      <th>Movie</th>\n",
       "      <th>Unnamed: 5</th>\n",
       "    </tr>\n",
       "  </thead>\n",
       "  <tbody>\n",
       "    <tr>\n",
       "      <th>0</th>\n",
       "      <td>1</td>\n",
       "      <td>1928</td>\n",
       "      <td>22</td>\n",
       "      <td>\"Janet Gaynor\"</td>\n",
       "      <td>\"Seventh Heaven</td>\n",
       "      <td>Street Angel and Sunrise: A Song of Two Humans\"</td>\n",
       "    </tr>\n",
       "    <tr>\n",
       "      <th>1</th>\n",
       "      <td>2</td>\n",
       "      <td>1929</td>\n",
       "      <td>37</td>\n",
       "      <td>\"Mary Pickford\"</td>\n",
       "      <td>\"Coquette\"</td>\n",
       "      <td>NaN</td>\n",
       "    </tr>\n",
       "    <tr>\n",
       "      <th>2</th>\n",
       "      <td>3</td>\n",
       "      <td>1930</td>\n",
       "      <td>28</td>\n",
       "      <td>\"Norma Shearer\"</td>\n",
       "      <td>\"The Divorcee\"\\t</td>\n",
       "      <td>NaN</td>\n",
       "    </tr>\n",
       "    <tr>\n",
       "      <th>3</th>\n",
       "      <td>4</td>\n",
       "      <td>1931</td>\n",
       "      <td>63</td>\n",
       "      <td>\"Marie Dressler\"</td>\n",
       "      <td>\"Min and Bill\"</td>\n",
       "      <td>NaN</td>\n",
       "    </tr>\n",
       "    <tr>\n",
       "      <th>4</th>\n",
       "      <td>5</td>\n",
       "      <td>1932</td>\n",
       "      <td>32</td>\n",
       "      <td>\"Helen Hayes\"</td>\n",
       "      <td>\"The Sin of Madelon Claudet\"\\t</td>\n",
       "      <td>NaN</td>\n",
       "    </tr>\n",
       "  </tbody>\n",
       "</table>\n",
       "</div>"
      ],
      "text/plain": [
       "   Index  Year  Age               Name                            Movie  \\\n",
       "0      1  1928   22     \"Janet Gaynor\"                  \"Seventh Heaven   \n",
       "1      2  1929   37    \"Mary Pickford\"                       \"Coquette\"   \n",
       "2      3  1930   28    \"Norma Shearer\"                 \"The Divorcee\"\\t   \n",
       "3      4  1931   63   \"Marie Dressler\"                   \"Min and Bill\"   \n",
       "4      5  1932   32      \"Helen Hayes\"   \"The Sin of Madelon Claudet\"\\t   \n",
       "\n",
       "                                         Unnamed: 5  \n",
       "0   Street Angel and Sunrise: A Song of Two Humans\"  \n",
       "1                                               NaN  \n",
       "2                                               NaN  \n",
       "3                                               NaN  \n",
       "4                                               NaN  "
      ]
     },
     "execution_count": 112,
     "metadata": {},
     "output_type": "execute_result"
    }
   ],
   "source": [
    "# read csv file\n",
    "\n",
    "reviews = pd.read_csv(\"C:\\/users/L/MyWork/pandas_tutorials/oscar_age_female.csv\")\n",
    "pd.set_option('max_rows', 5)\n",
    "reviews.head()"
   ]
  },
  {
   "cell_type": "code",
   "execution_count": 113,
   "metadata": {},
   "outputs": [
    {
     "data": {
      "text/plain": [
       "Index                                                        1\n",
       "Year                                                      1928\n",
       "                                    ...                       \n",
       "Movie                                          \"Seventh Heaven\n",
       "Unnamed: 5     Street Angel and Sunrise: A Song of Two Humans\"\n",
       "Name: 0, Length: 6, dtype: object"
      ]
     },
     "execution_count": 113,
     "metadata": {},
     "output_type": "execute_result"
    }
   ],
   "source": [
    "reviews.iloc[0]"
   ]
  },
  {
   "cell_type": "code",
   "execution_count": 114,
   "metadata": {},
   "outputs": [
    {
     "data": {
      "text/plain": [
       "0     1928\n",
       "1     1929\n",
       "      ... \n",
       "87    2015\n",
       "88    2016\n",
       "Name: Year, Length: 89, dtype: int64"
      ]
     },
     "execution_count": 114,
     "metadata": {},
     "output_type": "execute_result"
    }
   ],
   "source": [
    "reviews['Year']"
   ]
  },
  {
   "cell_type": "code",
   "execution_count": 115,
   "metadata": {},
   "outputs": [
    {
     "data": {
      "text/plain": [
       "1928"
      ]
     },
     "execution_count": 115,
     "metadata": {},
     "output_type": "execute_result"
    }
   ],
   "source": [
    "reviews['Year'][0]"
   ]
  },
  {
   "cell_type": "code",
   "execution_count": 116,
   "metadata": {},
   "outputs": [
    {
     "data": {
      "text/plain": [
       "0     22\n",
       "1     37\n",
       "      ..\n",
       "87    54\n",
       "88    26\n",
       "Name: Age, Length: 89, dtype: int64"
      ]
     },
     "execution_count": 116,
     "metadata": {},
     "output_type": "execute_result"
    }
   ],
   "source": [
    "reviews.iloc[:, 2]"
   ]
  },
  {
   "cell_type": "code",
   "execution_count": 117,
   "metadata": {},
   "outputs": [
    {
     "data": {
      "text/plain": [
       "0                    \"Seventh Heaven\n",
       "1                         \"Coquette\"\n",
       "4     \"The Sin of Madelon Claudet\"\\t\n",
       "Name: Movie, dtype: object"
      ]
     },
     "execution_count": 117,
     "metadata": {},
     "output_type": "execute_result"
    }
   ],
   "source": [
    "reviews.iloc[[0, 1, 4], 4]"
   ]
  },
  {
   "cell_type": "code",
   "execution_count": 118,
   "metadata": {},
   "outputs": [
    {
     "data": {
      "text/html": [
       "<div>\n",
       "<style scoped>\n",
       "    .dataframe tbody tr th:only-of-type {\n",
       "        vertical-align: middle;\n",
       "    }\n",
       "\n",
       "    .dataframe tbody tr th {\n",
       "        vertical-align: top;\n",
       "    }\n",
       "\n",
       "    .dataframe thead th {\n",
       "        text-align: right;\n",
       "    }\n",
       "</style>\n",
       "<table border=\"1\" class=\"dataframe\">\n",
       "  <thead>\n",
       "    <tr style=\"text-align: right;\">\n",
       "      <th></th>\n",
       "      <th>Index</th>\n",
       "      <th>Year</th>\n",
       "      <th>Age</th>\n",
       "      <th>Name</th>\n",
       "      <th>Movie</th>\n",
       "      <th>Unnamed: 5</th>\n",
       "    </tr>\n",
       "  </thead>\n",
       "  <tbody>\n",
       "    <tr>\n",
       "      <th>73</th>\n",
       "      <td>74</td>\n",
       "      <td>2001</td>\n",
       "      <td>33</td>\n",
       "      <td>\"Julia Roberts\"</td>\n",
       "      <td>\"Erin Brockovich\"</td>\n",
       "      <td>NaN</td>\n",
       "    </tr>\n",
       "    <tr>\n",
       "      <th>74</th>\n",
       "      <td>75</td>\n",
       "      <td>2002</td>\n",
       "      <td>35</td>\n",
       "      <td>\"Halle Berry\"</td>\n",
       "      <td>\"Monster's Ball\"</td>\n",
       "      <td>NaN</td>\n",
       "    </tr>\n",
       "    <tr>\n",
       "      <th>...</th>\n",
       "      <td>...</td>\n",
       "      <td>...</td>\n",
       "      <td>...</td>\n",
       "      <td>...</td>\n",
       "      <td>...</td>\n",
       "      <td>...</td>\n",
       "    </tr>\n",
       "    <tr>\n",
       "      <th>86</th>\n",
       "      <td>87</td>\n",
       "      <td>2014</td>\n",
       "      <td>44</td>\n",
       "      <td>\"Cate Blanchett\"</td>\n",
       "      <td>\"Blue Jasmine\"</td>\n",
       "      <td>NaN</td>\n",
       "    </tr>\n",
       "    <tr>\n",
       "      <th>87</th>\n",
       "      <td>88</td>\n",
       "      <td>2015</td>\n",
       "      <td>54</td>\n",
       "      <td>\"Julianne Moore\"</td>\n",
       "      <td>\"Still Alice\"</td>\n",
       "      <td>NaN</td>\n",
       "    </tr>\n",
       "  </tbody>\n",
       "</table>\n",
       "<p>11 rows × 6 columns</p>\n",
       "</div>"
      ],
      "text/plain": [
       "    Index  Year  Age               Name               Movie Unnamed: 5\n",
       "73     74  2001   33    \"Julia Roberts\"   \"Erin Brockovich\"        NaN\n",
       "74     75  2002   35      \"Halle Berry\"    \"Monster's Ball\"        NaN\n",
       "..    ...   ...  ...                ...                 ...        ...\n",
       "86     87  2014   44   \"Cate Blanchett\"      \"Blue Jasmine\"        NaN\n",
       "87     88  2015   54   \"Julianne Moore\"       \"Still Alice\"        NaN\n",
       "\n",
       "[11 rows x 6 columns]"
      ]
     },
     "execution_count": 118,
     "metadata": {},
     "output_type": "execute_result"
    }
   ],
   "source": [
    "#조건주기\n",
    "\n",
    "reviews.loc[(reviews.Year >= 2000) & (reviews.Age >= 30)]"
   ]
  },
  {
   "cell_type": "markdown",
   "metadata": {},
   "source": [
    "# 기타 조건활용 함수\n",
    "<!-- \n",
    "reviews.loc[reviews.price.notnull()]\n",
    "reviews.loc[reviews.country.isin(['Italy', 'France'])]\n",
    " -->"
   ]
  },
  {
   "cell_type": "code",
   "execution_count": 119,
   "metadata": {},
   "outputs": [
    {
     "data": {
      "text/html": [
       "<div>\n",
       "<style scoped>\n",
       "    .dataframe tbody tr th:only-of-type {\n",
       "        vertical-align: middle;\n",
       "    }\n",
       "\n",
       "    .dataframe tbody tr th {\n",
       "        vertical-align: top;\n",
       "    }\n",
       "\n",
       "    .dataframe thead th {\n",
       "        text-align: right;\n",
       "    }\n",
       "</style>\n",
       "<table border=\"1\" class=\"dataframe\">\n",
       "  <thead>\n",
       "    <tr style=\"text-align: right;\">\n",
       "      <th></th>\n",
       "      <th>Index</th>\n",
       "      <th>Year</th>\n",
       "      <th>Age</th>\n",
       "      <th>Name</th>\n",
       "      <th>Movie</th>\n",
       "      <th>Unnamed: 5</th>\n",
       "    </tr>\n",
       "  </thead>\n",
       "  <tbody>\n",
       "    <tr>\n",
       "      <th>0</th>\n",
       "      <td>1</td>\n",
       "      <td>everyone</td>\n",
       "      <td>22</td>\n",
       "      <td>\"Janet Gaynor\"</td>\n",
       "      <td>\"Seventh Heaven</td>\n",
       "      <td>Street Angel and Sunrise: A Song of Two Humans\"</td>\n",
       "    </tr>\n",
       "    <tr>\n",
       "      <th>1</th>\n",
       "      <td>2</td>\n",
       "      <td>everyone</td>\n",
       "      <td>37</td>\n",
       "      <td>\"Mary Pickford\"</td>\n",
       "      <td>\"Coquette\"</td>\n",
       "      <td>NaN</td>\n",
       "    </tr>\n",
       "    <tr>\n",
       "      <th>2</th>\n",
       "      <td>3</td>\n",
       "      <td>everyone</td>\n",
       "      <td>28</td>\n",
       "      <td>\"Norma Shearer\"</td>\n",
       "      <td>\"The Divorcee\"\\t</td>\n",
       "      <td>NaN</td>\n",
       "    </tr>\n",
       "    <tr>\n",
       "      <th>3</th>\n",
       "      <td>4</td>\n",
       "      <td>everyone</td>\n",
       "      <td>63</td>\n",
       "      <td>\"Marie Dressler\"</td>\n",
       "      <td>\"Min and Bill\"</td>\n",
       "      <td>NaN</td>\n",
       "    </tr>\n",
       "    <tr>\n",
       "      <th>4</th>\n",
       "      <td>5</td>\n",
       "      <td>everyone</td>\n",
       "      <td>32</td>\n",
       "      <td>\"Helen Hayes\"</td>\n",
       "      <td>\"The Sin of Madelon Claudet\"\\t</td>\n",
       "      <td>NaN</td>\n",
       "    </tr>\n",
       "  </tbody>\n",
       "</table>\n",
       "</div>"
      ],
      "text/plain": [
       "   Index      Year  Age               Name                            Movie  \\\n",
       "0      1  everyone   22     \"Janet Gaynor\"                  \"Seventh Heaven   \n",
       "1      2  everyone   37    \"Mary Pickford\"                       \"Coquette\"   \n",
       "2      3  everyone   28    \"Norma Shearer\"                 \"The Divorcee\"\\t   \n",
       "3      4  everyone   63   \"Marie Dressler\"                   \"Min and Bill\"   \n",
       "4      5  everyone   32      \"Helen Hayes\"   \"The Sin of Madelon Claudet\"\\t   \n",
       "\n",
       "                                         Unnamed: 5  \n",
       "0   Street Angel and Sunrise: A Song of Two Humans\"  \n",
       "1                                               NaN  \n",
       "2                                               NaN  \n",
       "3                                               NaN  \n",
       "4                                               NaN  "
      ]
     },
     "execution_count": 119,
     "metadata": {},
     "output_type": "execute_result"
    }
   ],
   "source": [
    "reviews['Year'] = 'everyone'\n",
    "reviews.head()\n"
   ]
  },
  {
   "cell_type": "code",
   "execution_count": 120,
   "metadata": {},
   "outputs": [
    {
     "data": {
      "text/plain": [
       "count    89.000000\n",
       "mean     36.123596\n",
       "           ...    \n",
       "75%      41.000000\n",
       "max      80.000000\n",
       "Name: Age, Length: 8, dtype: float64"
      ]
     },
     "execution_count": 120,
     "metadata": {},
     "output_type": "execute_result"
    }
   ],
   "source": [
    "reviews.Age.describe()"
   ]
  },
  {
   "cell_type": "code",
   "execution_count": 121,
   "metadata": {},
   "outputs": [
    {
     "data": {
      "text/plain": [
       "36.12359550561798"
      ]
     },
     "execution_count": 121,
     "metadata": {},
     "output_type": "execute_result"
    }
   ],
   "source": [
    "reviews.Age.mean()"
   ]
  },
  {
   "cell_type": "code",
   "execution_count": 122,
   "metadata": {},
   "outputs": [
    {
     "data": {
      "text/plain": [
       "array([' \"Janet Gaynor\"', ' \"Mary Pickford\"', ' \"Norma Shearer\"',\n",
       "       ' \"Marie Dressler\"', ' \"Helen Hayes\"', ' \"Katharine Hepburn\"',\n",
       "       ' \"Claudette Colbert\"', ' \"Bette Davis\"', ' \"Luise Rainer\"',\n",
       "       ' \"Vivien Leigh\"', ' \"Ginger Rogers\"', ' \"Joan Fontaine\"',\n",
       "       ' \"Greer Garson\"', ' \"Jennifer Jones\"', ' \"Ingrid Bergman\"',\n",
       "       ' \"Joan Crawford\"', ' \"Olivia de Havilland\"', ' \"Loretta Young\"',\n",
       "       ' \"Jane Wyman\"', ' \"Judy Holliday\"', ' \"Shirley Booth\"',\n",
       "       ' \"Audrey Hepburn\"', ' \"Grace Kelly\"', ' \"Anna Magnani\"',\n",
       "       ' \"Joanne Woodward\"', ' \"Susan Hayward\"', ' \"Simone Signoret\"',\n",
       "       ' \"Elizabeth Taylor\"', ' \"Sophia Loren\"', ' \"Anne Bancroft\"',\n",
       "       ' \"Patricia Neal\"', ' \"Julie Andrews\"', ' \"Julie Christie\"',\n",
       "       ' \"Barbra Streisand\"', ' \"Maggie Smith\"', ' \"Glenda Jackson\"',\n",
       "       ' \"Jane Fonda\"', ' \"Liza Minnelli\"', ' \"Ellen Burstyn\"',\n",
       "       ' \"Louise Fletcher\"', ' \"Faye Dunaway\"', ' \"Diane Keaton\"',\n",
       "       ' \"Sally Field\"', ' \"Sissy Spacek\"', ' \"Meryl Streep\"',\n",
       "       ' \"Shirley MacLaine\"', ' \"Geraldine Page\"', ' \"Marlee Matlin\"',\n",
       "       ' \"Cher\"', ' \"Jodie Foster\"', ' \"Jessica Tandy\"', ' \"Kathy Bates\"',\n",
       "       ' \"Emma Thompson\"', ' \"Holly Hunter\"', ' \"Jessica Lange\"',\n",
       "       ' \"Susan Sarandon\"', ' \"Frances McDormand\"', ' \"Helen Hunt\"',\n",
       "       ' \"Gwyneth Paltrow\"', ' \"Hilary Swank\"', ' \"Julia Roberts\"',\n",
       "       ' \"Halle Berry\"', ' \"Nicole Kidman\"', ' \"Charlize Theron\"',\n",
       "       ' \"Reese Witherspoon\"', ' \"Helen Mirren\"', ' \"Marion Cotillard\"',\n",
       "       ' \"Kate Winslet\"', ' \"Sandra Bullock\"', ' \"Natalie Portman\"',\n",
       "       ' \"Jennifer Lawrence\"', ' \"Cate Blanchett\"', ' \"Julianne Moore\"',\n",
       "       ' \"Brie Larson\"'], dtype=object)"
      ]
     },
     "execution_count": 122,
     "metadata": {},
     "output_type": "execute_result"
    }
   ],
   "source": [
    "reviews.Name.unique()"
   ]
  },
  {
   "cell_type": "code",
   "execution_count": 124,
   "metadata": {},
   "outputs": [
    {
     "data": {
      "text/plain": [
       " \"Katharine Hepburn\"    4\n",
       " \"Luise Rainer\"         2\n",
       "                       ..\n",
       " \"Ginger Rogers\"        1\n",
       " \"Helen Hunt\"           1\n",
       "Name: Name, Length: 74, dtype: int64"
      ]
     },
     "execution_count": 124,
     "metadata": {},
     "output_type": "execute_result"
    }
   ],
   "source": [
    "reviews.Name.value_counts()"
   ]
  },
  {
   "cell_type": "code",
   "execution_count": 1,
   "metadata": {},
   "outputs": [
    {
     "ename": "NameError",
     "evalue": "name 'reviews' is not defined",
     "output_type": "error",
     "traceback": [
      "\u001b[1;31m---------------------------------------------------------------------------\u001b[0m",
      "\u001b[1;31mNameError\u001b[0m                                 Traceback (most recent call last)",
      "\u001b[1;32m<ipython-input-1-7141564fdba2>\u001b[0m in \u001b[0;36m<module>\u001b[1;34m\u001b[0m\n\u001b[1;32m----> 1\u001b[1;33m \u001b[0mreviews\u001b[0m\u001b[1;33m.\u001b[0m\u001b[0mgroupby\u001b[0m\u001b[1;33m(\u001b[0m\u001b[1;34m'points'\u001b[0m\u001b[1;33m)\u001b[0m\u001b[1;33m.\u001b[0m\u001b[0mpoints\u001b[0m\u001b[1;33m.\u001b[0m\u001b[0mcount\u001b[0m\u001b[1;33m(\u001b[0m\u001b[1;33m)\u001b[0m\u001b[1;33m\u001b[0m\u001b[1;33m\u001b[0m\u001b[0m\n\u001b[0m",
      "\u001b[1;31mNameError\u001b[0m: name 'reviews' is not defined"
     ]
    }
   ],
   "source": [
    "reviews.groupby('points').points.count()"
   ]
  },
  {
   "cell_type": "code",
   "execution_count": null,
   "metadata": {},
   "outputs": [],
   "source": []
  },
  {
   "cell_type": "code",
   "execution_count": null,
   "metadata": {},
   "outputs": [],
   "source": []
  },
  {
   "cell_type": "code",
   "execution_count": null,
   "metadata": {},
   "outputs": [],
   "source": []
  }
 ],
 "metadata": {
  "kernelspec": {
   "display_name": "Python 3",
   "language": "python",
   "name": "python3"
  },
  "language_info": {
   "codemirror_mode": {
    "name": "ipython",
    "version": 3
   },
   "file_extension": ".py",
   "mimetype": "text/x-python",
   "name": "python",
   "nbconvert_exporter": "python",
   "pygments_lexer": "ipython3",
   "version": "3.7.6"
  }
 },
 "nbformat": 4,
 "nbformat_minor": 4
}
